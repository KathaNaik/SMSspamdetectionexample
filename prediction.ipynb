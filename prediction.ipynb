{
  "nbformat": 4,
  "nbformat_minor": 0,
  "metadata": {
    "colab": {
      "provenance": []
    },
    "kernelspec": {
      "name": "python3",
      "display_name": "Python 3"
    },
    "language_info": {
      "name": "python"
    }
  },
  "cells": [
    {
      "cell_type": "code",
      "source": [
        "from sklearn.naive_bayes import *\n",
        "from sklearn.dummy import *\n",
        "from sklearn.ensemble import *\n",
        "from sklearn.neighbors import *\n",
        "from sklearn.tree import *\n",
        "from sklearn.feature_extraction.text import CountVectorizer\n",
        "from sklearn.feature_extraction.text import TfidfVectorizer\n",
        "from sklearn.feature_extraction.text import HashingVectorizer\n",
        "from sklearn.calibration import *\n",
        "from sklearn.linear_model import *\n",
        "from sklearn.multiclass import *\n",
        "from sklearn.svm import *\n",
        "import pandas\n",
        "import csv\n",
        "\n",
        "# Load the dataset\n",
        "data = pandas.read_csv('spam.csv', encoding='latin-1')\n",
        "\n",
        "# Perform a 70:30 split\n",
        "train_size = int(len(data) * 0.7)  # Calculate 70% of the dataset\n",
        "train_data = data[:train_size]    # First 70% for training\n",
        "test_data = data[train_size:]     # Remaining 30% for testing\n",
        "\n",
        "# Define classifier and vectorizer\n",
        "classifier = OneVsRestClassifier(SVC(kernel='linear'))\n",
        "vectorizer = TfidfVectorizer()\n",
        "\n",
        "# Train the classifier\n",
        "vectorize_text = vectorizer.fit_transform(train_data.v2)\n",
        "classifier.fit(vectorize_text, train_data.v1)\n",
        "\n",
        "# Prepare results for CSV\n",
        "csv_arr = []\n",
        "for index, row in test_data.iterrows():\n",
        "    answer = row.iloc[0]  # Correct label\n",
        "    text = row.iloc[1]    # Message text\n",
        "    vectorize_text = vectorizer.transform([text])\n",
        "    predict = classifier.predict(vectorize_text)[0]  # Predicted label\n",
        "    result = 'right' if predict == answer else 'wrong'  # Result comparison\n",
        "    csv_arr.append([len(csv_arr), text, answer, predict, result])\n",
        "\n",
        "# Write results to CSV\n",
        "with open('test_score.csv', 'w', newline='') as csvfile:\n",
        "    spamwriter = csv.writer(csvfile, delimiter=';',\n",
        "                            quotechar='\"', quoting=csv.QUOTE_MINIMAL)\n",
        "    spamwriter.writerow(['#', 'text', 'answer', 'predict', 'result'])\n",
        "\n",
        "    for row in csv_arr:\n",
        "        spamwriter.writerow(row)\n"
      ],
      "metadata": {
        "id": "DJIKioZynsiH"
      },
      "execution_count": 2,
      "outputs": []
    }
  ]
}