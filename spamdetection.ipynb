{
  "nbformat": 4,
  "nbformat_minor": 0,
  "metadata": {
    "colab": {
      "provenance": []
    },
    "kernelspec": {
      "name": "python3",
      "display_name": "Python 3"
    },
    "language_info": {
      "name": "python"
    }
  },
  "cells": [
    {
      "cell_type": "code",
      "execution_count": 1,
      "metadata": {
        "id": "Qtsy7M82_BAq"
      },
      "outputs": [],
      "source": [
        "from sklearn.naive_bayes import *\n",
        "from sklearn.dummy import *\n",
        "from sklearn.ensemble import *\n",
        "from sklearn.neighbors import *\n",
        "from sklearn.tree import *\n",
        "from sklearn.feature_extraction.text import CountVectorizer\n",
        "from sklearn.feature_extraction.text import TfidfVectorizer\n",
        "from sklearn.feature_extraction.text import HashingVectorizer\n",
        "from sklearn.calibration import *\n",
        "from sklearn.linear_model import *\n",
        "from sklearn.multiclass import *\n",
        "from sklearn.svm import *\n",
        "import pandas"
      ]
    },
    {
      "cell_type": "code",
      "source": [
        "def perform(classifiers, vectorizers, train_data, test_data):\n",
        "    for classifier in classifiers:\n",
        "        for vectorizer in vectorizers:\n",
        "            string = ''\n",
        "            string += classifier.__class__.__name__ + ' with ' + vectorizer.__class__.__name__\n",
        "\n",
        "            # Train\n",
        "            vectorize_text = vectorizer.fit_transform(train_data.v2)\n",
        "            classifier.fit(vectorize_text, train_data.v1)\n",
        "\n",
        "            # Score\n",
        "            vectorize_text = vectorizer.transform(test_data.v2)\n",
        "            score = classifier.score(vectorize_text, test_data.v1)\n",
        "            string += '. Has score: ' + str(score)\n",
        "            print(string)\n",
        "\n",
        "# Open data-set and divide it\n",
        "data = pandas.read_csv('spam.csv', encoding='latin-1')\n",
        "\n",
        "# Perform a 70:30 split\n",
        "train_size = int(len(data) * 0.7)  # Calculate 70% of the dataset\n",
        "train_data = data[:train_size]    # First 70% for training\n",
        "test_data = data[train_size:]     # Remaining 30% for testing\n",
        "\n",
        "# Call perform function\n",
        "perform(\n",
        "    [\n",
        "        BernoulliNB(),\n",
        "        RandomForestClassifier(n_estimators=100, n_jobs=-1),\n",
        "        AdaBoostClassifier(),\n",
        "        BaggingClassifier(),\n",
        "        ExtraTreesClassifier(),\n",
        "        GradientBoostingClassifier(),\n",
        "        DecisionTreeClassifier(),\n",
        "        CalibratedClassifierCV(),\n",
        "        DummyClassifier(),\n",
        "        PassiveAggressiveClassifier(),\n",
        "        RidgeClassifier(),\n",
        "        RidgeClassifierCV(),\n",
        "        SGDClassifier(),\n",
        "        OneVsRestClassifier(SVC(kernel='linear')),\n",
        "        OneVsRestClassifier(LogisticRegression()),\n",
        "        KNeighborsClassifier()\n",
        "    ],\n",
        "    [\n",
        "        CountVectorizer(),\n",
        "        TfidfVectorizer(),\n",
        "        HashingVectorizer()\n",
        "    ],\n",
        "    train_data,\n",
        "    test_data\n",
        ")"
      ],
      "metadata": {
        "colab": {
          "base_uri": "https://localhost:8080/"
        },
        "id": "-Rtge1Pd_JoK",
        "outputId": "5fac9d55-1095-4dea-c336-40691686d98d"
      },
      "execution_count": 3,
      "outputs": [
        {
          "output_type": "stream",
          "name": "stdout",
          "text": [
            "BernoulliNB with CountVectorizer. Has score: 0.9760765550239234\n",
            "BernoulliNB with TfidfVectorizer. Has score: 0.9760765550239234\n",
            "BernoulliNB with HashingVectorizer. Has score: 0.8636363636363636\n",
            "RandomForestClassifier with CountVectorizer. Has score: 0.972488038277512\n",
            "RandomForestClassifier with TfidfVectorizer. Has score: 0.9712918660287081\n",
            "RandomForestClassifier with HashingVectorizer. Has score: 0.9647129186602871\n",
            "AdaBoostClassifier with CountVectorizer. Has score: 0.9198564593301436\n",
            "AdaBoostClassifier with TfidfVectorizer. Has score: 0.9419856459330144\n",
            "AdaBoostClassifier with HashingVectorizer. Has score: 0.9473684210526315\n",
            "BaggingClassifier with CountVectorizer. Has score: 0.958732057416268\n",
            "BaggingClassifier with TfidfVectorizer. Has score: 0.9641148325358851\n",
            "BaggingClassifier with HashingVectorizer. Has score: 0.9688995215311005\n",
            "ExtraTreesClassifier with CountVectorizer. Has score: 0.9778708133971292\n",
            "ExtraTreesClassifier with TfidfVectorizer. Has score: 0.9754784688995215\n",
            "ExtraTreesClassifier with HashingVectorizer. Has score: 0.9677033492822966\n",
            "GradientBoostingClassifier with CountVectorizer. Has score: 0.9671052631578947\n",
            "GradientBoostingClassifier with TfidfVectorizer. Has score: 0.9623205741626795\n",
            "GradientBoostingClassifier with HashingVectorizer. Has score: 0.9665071770334929\n",
            "DecisionTreeClassifier with CountVectorizer. Has score: 0.958732057416268\n",
            "DecisionTreeClassifier with TfidfVectorizer. Has score: 0.9629186602870813\n",
            "DecisionTreeClassifier with HashingVectorizer. Has score: 0.9641148325358851\n",
            "CalibratedClassifierCV with CountVectorizer. Has score: 0.9850478468899522\n",
            "CalibratedClassifierCV with TfidfVectorizer. Has score: 0.9874401913875598\n",
            "CalibratedClassifierCV with HashingVectorizer. Has score: 0.9838516746411483\n",
            "DummyClassifier with CountVectorizer. Has score: 0.8636363636363636\n",
            "DummyClassifier with TfidfVectorizer. Has score: 0.8636363636363636\n",
            "DummyClassifier with HashingVectorizer. Has score: 0.8636363636363636\n",
            "PassiveAggressiveClassifier with CountVectorizer. Has score: 0.9820574162679426\n",
            "PassiveAggressiveClassifier with TfidfVectorizer. Has score: 0.9856459330143541\n",
            "PassiveAggressiveClassifier with HashingVectorizer. Has score: 0.9826555023923444\n",
            "RidgeClassifier with CountVectorizer. Has score: 0.9760765550239234\n",
            "RidgeClassifier with TfidfVectorizer. Has score: 0.9820574162679426\n",
            "RidgeClassifier with HashingVectorizer. Has score: 0.979066985645933\n",
            "RidgeClassifierCV with CountVectorizer. Has score: 0.9760765550239234\n",
            "RidgeClassifierCV with TfidfVectorizer. Has score: 0.9814593301435407\n",
            "RidgeClassifierCV with HashingVectorizer. Has score: 0.9802631578947368\n",
            "SGDClassifier with CountVectorizer. Has score: 0.9844497607655502\n",
            "SGDClassifier with TfidfVectorizer. Has score: 0.986244019138756\n",
            "SGDClassifier with HashingVectorizer. Has score: 0.9832535885167464\n",
            "OneVsRestClassifier with CountVectorizer. Has score: 0.9832535885167464\n",
            "OneVsRestClassifier with TfidfVectorizer. Has score: 0.9868421052631579\n",
            "OneVsRestClassifier with HashingVectorizer. Has score: 0.9826555023923444\n",
            "OneVsRestClassifier with CountVectorizer. Has score: 0.9808612440191388\n",
            "OneVsRestClassifier with TfidfVectorizer. Has score: 0.9712918660287081\n",
            "OneVsRestClassifier with HashingVectorizer. Has score: 0.9629186602870813\n",
            "KNeighborsClassifier with CountVectorizer. Has score: 0.9114832535885168\n",
            "KNeighborsClassifier with TfidfVectorizer. Has score: 0.9688995215311005\n",
            "KNeighborsClassifier with HashingVectorizer. Has score: 0.9688995215311005\n"
          ]
        }
      ]
    }
  ]
}